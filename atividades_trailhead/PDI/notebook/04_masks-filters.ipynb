{
 "cells": [
  {
   "cell_type": "code",
   "execution_count": null,
   "id": "df83d808",
   "metadata": {},
   "outputs": [],
   "source": [
    "import cv2\n",
    "import numpy as np"
   ]
  },
  {
   "cell_type": "code",
   "execution_count": null,
   "id": "021bb576",
   "metadata": {},
   "outputs": [],
   "source": [
    "def wait():\n",
    "    cv2.waitKey(0)\n",
    "    cv2.destroyAllWindows()"
   ]
  },
  {
   "cell_type": "code",
   "execution_count": null,
   "id": "1d3d1fab",
   "metadata": {},
   "outputs": [],
   "source": [
    "img = cv2.imread('../images/bridge.png')\n",
    "img = img[::2,::2]"
   ]
  },
  {
   "cell_type": "code",
   "execution_count": null,
   "id": "81c87f09",
   "metadata": {},
   "outputs": [],
   "source": [
    "blurred = np.vstack([np.hstack([img, cv2.blur(img, ( 3,  3))]),\\\n",
    "                      np.hstack([cv2.blur(img, (5,5)), cv2.blur(img, ( 7,  7))]),\\\n",
    "                      np.hstack([cv2.blur(img, (9,9)), cv2.blur(img, (11, 11))]),])\n",
    "\n",
    "cv2.imshow(\"Blurred images\", blurred) \n",
    "wait()"
   ]
  },
  {
   "cell_type": "markdown",
   "id": "70b3f19e",
   "metadata": {},
   "source": [
    "## Median smoothing"
   ]
  },
  {
   "cell_type": "code",
   "execution_count": null,
   "id": "69b3624d",
   "metadata": {},
   "outputs": [],
   "source": [
    "img = cv2.imread('../images/bridge.png')\n",
    "img = img[::2,::2] \n",
    "smoothed = np.vstack(\n",
    "    [np.hstack([img, cv2.medianBlur(img,  3)]), \n",
    "     np.hstack([cv2.medianBlur(img,  5), \n",
    "                cv2.medianBlur(img,  7)]), \n",
    "     np.hstack([cv2.medianBlur(img,  9), cv2.medianBlur(img, 11)]), ])\n",
    "cv2.imshow(\"Original and smoothed by median images\", smoothed)\n",
    "wait()"
   ]
  },
  {
   "cell_type": "markdown",
   "id": "76178e0d",
   "metadata": {},
   "source": [
    "## Bilateral Filter"
   ]
  },
  {
   "cell_type": "code",
   "execution_count": null,
   "id": "f3ba07b9",
   "metadata": {},
   "outputs": [],
   "source": [
    "img = cv2.imread('../images/bridge.png')\n",
    "img = img[::2,::2]\n",
    "smoothed = np.vstack(\n",
    "    [np.hstack([img, cv2.bilateralFilter(img,  3, 21, 21)]), \n",
    "     np.hstack([cv2.bilateralFilter(img,  5, 35, 35), \n",
    "                cv2.bilateralFilter(img,  7, 49, 49)]),\n",
    "     np.hstack([cv2.bilateralFilter(img,  9, 63, 63), \n",
    "                cv2.bilateralFilter(img, 11, 77, 77)])\n",
    "    ])\n",
    "cv2.imshow(\"Original and smoothed by bilateral filter images\", smoothed)\n",
    "wait()"
   ]
  },
  {
   "cell_type": "markdown",
   "id": "50adb96a",
   "metadata": {},
   "source": [
    "## Binarization"
   ]
  },
  {
   "cell_type": "code",
   "execution_count": null,
   "id": "50506a13",
   "metadata": {},
   "outputs": [],
   "source": [
    "img = cv2.imread('../images/bridge.png')\n",
    "img = cv2.cvtColor(img, cv2.COLOR_BGR2GRAY)  \n",
    "smoothed = cv2.GaussianBlur(img, (7, 7), 0)\n",
    "(T, bin) = cv2.threshold(smoothed, 160, 255, cv2.THRESH_BINARY) \n",
    "(T, binI) = cv2.threshold(smoothed, 160, 255, cv2.THRESH_BINARY_INV) \n",
    "result = np.vstack(\n",
    "    [np.hstack([smoothed, bin]), \n",
    "     np.hstack([binI, cv2.bitwise_and(img, img, mask = binI)])\n",
    "    ])   \n",
    "cv2.imshow(\"Image binarization\", result) \n",
    "wait()"
   ]
  },
  {
   "cell_type": "markdown",
   "id": "8df9d12a",
   "metadata": {},
   "source": [
    "## Adaptive threshold"
   ]
  },
  {
   "cell_type": "code",
   "execution_count": null,
   "id": "897096be",
   "metadata": {},
   "outputs": [],
   "source": [
    "img = cv2.imread('../images/bridge.png')"
   ]
  },
  {
   "cell_type": "code",
   "execution_count": null,
   "id": "495574f0",
   "metadata": {},
   "outputs": [],
   "source": [
    "img = cv2.cvtColor(img, cv2.COLOR_BGR2GRAY)\n",
    "smoothed = cv2.GaussianBlur(img, (7, 7), 0)\n",
    "bin1 = cv2.adaptiveThreshold(smoothed, 255,  \n",
    "                             cv2.ADAPTIVE_THRESH_MEAN_C, \n",
    "                             cv2.THRESH_BINARY_INV, 21, 5)\n",
    "bin2 = cv2.adaptiveThreshold(smoothed, 255,  \n",
    "                             cv2.ADAPTIVE_THRESH_GAUSSIAN_C, \n",
    "                             cv2.THRESH_BINARY_INV, 21, 5)  \n",
    "result = np.vstack([np.hstack([img, smoothed]), \n",
    "                    np.hstack([bin1, bin2])\n",
    "                   ])\n",
    "cv2.imshow(\"Adaptive binarization\", result) \n",
    "wait()"
   ]
  },
  {
   "cell_type": "markdown",
   "id": "3694f44b",
   "metadata": {},
   "source": [
    " ## Otsu, Riddler-Calvard Threshold"
   ]
  },
  {
   "cell_type": "code",
   "execution_count": null,
   "id": "0403c7b6",
   "metadata": {},
   "outputs": [],
   "source": [
    "import mahotas \n",
    "\n",
    "img = cv2.imread('../images/bridge.png')\n",
    "\n",
    "img = cv2.cvtColor(img, cv2.COLOR_BGR2GRAY) \n",
    "smoothed = cv2.GaussianBlur(img, (7, 7), 0) \n",
    "T = mahotas.thresholding.otsu(smoothed) \n",
    "temp = img.copy() \n",
    "temp[temp > T] = 255 \n",
    "temp[temp < 255] = 0 \n",
    "temp = cv2.bitwise_not(temp) \n",
    "T = mahotas.thresholding.rc(smoothed) \n",
    "temp2 = img.copy() \n",
    "temp2[temp2 > T] = 255 \n",
    "temp2[temp2 < 255] = 0 \n",
    "temp2 = cv2.bitwise_not(temp2) \n",
    "result = np.vstack([np.hstack([img, smoothed]), \n",
    "                       np.hstack([temp, temp2])  ])  \n",
    "cv2.imshow(\"Otsu and Riddler-Calvard binarization\", result) \n",
    "wait()"
   ]
  },
  {
   "cell_type": "markdown",
   "id": "9933d06c",
   "metadata": {},
   "source": [
    "## Sobel"
   ]
  },
  {
   "cell_type": "code",
   "execution_count": null,
   "id": "b0558ec7",
   "metadata": {},
   "outputs": [],
   "source": [
    "img = cv2.imread('../images/bridge.png')\n",
    "img = cv2.cvtColor(img, cv2.COLOR_BGR2GRAY)  \n",
    "sobelX = cv2.Sobel(img, cv2.CV_64F, 1, 0) \n",
    "sobelY = cv2.Sobel(img, cv2.CV_64F, 0, 1) \n",
    "sobelX = np.uint8(np.absolute(sobelX)) \n",
    "sobelY = np.uint8(np.absolute(sobelY)) \n",
    "sobel = cv2.bitwise_or(sobelX, sobelY)  \n",
    "result = np.vstack([np.hstack([img, sobelX]), \n",
    "                    np.hstack([sobelY, sobel])\n",
    "                   ])   \n",
    "cv2.imshow(\"Sobel\", result) \n",
    "wait()"
   ]
  },
  {
   "cell_type": "markdown",
   "id": "94e53424",
   "metadata": {},
   "source": [
    "## Laplacian"
   ]
  },
  {
   "cell_type": "code",
   "execution_count": null,
   "id": "2923f055",
   "metadata": {},
   "outputs": [],
   "source": [
    "img = cv2.imread('../images/bridge.png')\n",
    "img = cv2.cvtColor(img, cv2.COLOR_BGR2GRAY) \n",
    "lap = cv2.Laplacian(img, cv2.CV_64F) \n",
    "lap = np.uint8(np.absolute(lap)) \n",
    "result = np.vstack([img, lap])  \n",
    "cv2.imshow(\"Laplacian Filter\", result) \n",
    "wait()"
   ]
  },
  {
   "cell_type": "markdown",
   "id": "1bb126f4",
   "metadata": {},
   "source": [
    "## Canny edge detector"
   ]
  },
  {
   "cell_type": "code",
   "execution_count": null,
   "id": "1d1b5c97",
   "metadata": {},
   "outputs": [],
   "source": [
    "img = cv2.imread('../images/bridge.png')\n",
    "img = cv2.cvtColor(img, cv2.COLOR_BGR2GRAY) \n",
    "smoothed = cv2.GaussianBlur(img, (7, 7), 0)  \n",
    "canny1 = cv2.Canny(smoothed, 20, 120) \n",
    "canny2 = cv2.Canny(smoothed, 70, 200) \n",
    "result = np.vstack([np.hstack([img, smoothed]), \n",
    "                    np.hstack([canny1, canny2])\n",
    "                   ])  \n",
    "cv2.imshow(\"Detector de Bordas Canny\", result) \n",
    "wait()"
   ]
  }
 ],
 "metadata": {
  "kernelspec": {
   "display_name": "Python 3.9.10 ('venv': venv)",
   "language": "python",
   "name": "python3"
  },
  "language_info": {
   "codemirror_mode": {
    "name": "ipython",
    "version": 3
   },
   "file_extension": ".py",
   "mimetype": "text/x-python",
   "name": "python",
   "nbconvert_exporter": "python",
   "pygments_lexer": "ipython3",
   "version": "3.9.10"
  },
  "vscode": {
   "interpreter": {
    "hash": "fd55720c0b332c23ecbd85df914f0bc474194e267776ec41e175b6c84db1563d"
   }
  }
 },
 "nbformat": 4,
 "nbformat_minor": 5
}
