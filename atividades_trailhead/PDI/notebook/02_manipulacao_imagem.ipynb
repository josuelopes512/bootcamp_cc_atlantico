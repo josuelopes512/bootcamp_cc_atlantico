{
 "cells": [
  {
   "cell_type": "code",
   "execution_count": 12,
   "id": "1e5df7c6",
   "metadata": {},
   "outputs": [],
   "source": [
    "import cv2"
   ]
  },
  {
   "cell_type": "code",
   "execution_count": 13,
   "id": "fa5a34e9",
   "metadata": {},
   "outputs": [],
   "source": [
    "image = cv2.imread('../images/bridge.png')"
   ]
  },
  {
   "cell_type": "code",
   "execution_count": 14,
   "id": "dc63c0eb",
   "metadata": {},
   "outputs": [],
   "source": [
    "(b, g, r) = image[0, 0] #note the order: BGR, not RGB "
   ]
  },
  {
   "cell_type": "code",
   "execution_count": 15,
   "id": "0040ead7",
   "metadata": {},
   "outputs": [
    {
     "name": "stdout",
     "output_type": "stream",
     "text": [
      "Pixel (0, 0) has following colors:\n",
      "Red: 255 Green: 255 Blue: 255\n"
     ]
    }
   ],
   "source": [
    "print('Pixel (0, 0) has following colors:') \n",
    "print('Red:', r, 'Green:', g, 'Blue:', b)  "
   ]
  },
  {
   "cell_type": "code",
   "execution_count": 16,
   "id": "bf27a2d0",
   "metadata": {},
   "outputs": [],
   "source": [
    "# replaces all pixels with blue ones\n",
    "for y in range(0, image.shape[0]):\n",
    "    for x in range(0, image.shape[1]):\n",
    "        image[y, x] = (255,0,0)\n",
    "    \n",
    "cv2.imshow(\"Modified image\", image)\n",
    "cv2.waitKey(0)\n",
    "cv2.destroyAllWindows()"
   ]
  },
  {
   "cell_type": "code",
   "execution_count": null,
   "id": "39c8ec14",
   "metadata": {},
   "outputs": [],
   "source": [
    "image = cv2.imread('../images/bridge.png')\n",
    "\n",
    "for y in range(0, image.shape[0], 10): # rows\n",
    "    for x in range(0, image.shape[1], 10): # columns\n",
    "        image[y:y+5, x: x+5] = (0,255,255)\n",
    "cv2.imshow(\"Modified image\", image) \n",
    "cv2.waitKey(0)  \n",
    "cv2.destroyAllWindows()"
   ]
  },
  {
   "cell_type": "markdown",
   "id": "d1e60c38",
   "metadata": {},
   "source": [
    "## Image crop"
   ]
  },
  {
   "cell_type": "code",
   "execution_count": null,
   "id": "47aca4c7",
   "metadata": {},
   "outputs": [],
   "source": [
    "image = cv2.imread('../images/bridge.png')\n",
    "crop = image[100:200, 100:200]\n",
    "cv2.imshow(\"Cropped image\", crop)\n",
    "cv2.waitKey(0)  \n",
    "cv2.destroyAllWindows()"
   ]
  },
  {
   "cell_type": "markdown",
   "id": "b6493446",
   "metadata": {},
   "source": [
    "## Image resize"
   ]
  },
  {
   "cell_type": "code",
   "execution_count": null,
   "id": "4a280556",
   "metadata": {},
   "outputs": [],
   "source": [
    "import numpy as np"
   ]
  },
  {
   "cell_type": "code",
   "execution_count": null,
   "id": "022a22da",
   "metadata": {},
   "outputs": [],
   "source": [
    "img = cv2.imread('../images/bridge.png')"
   ]
  },
  {
   "cell_type": "code",
   "execution_count": null,
   "id": "e19ed340",
   "metadata": {},
   "outputs": [],
   "source": [
    "width = img.shape[1]\n",
    "height = img.shape[0]\n",
    "ratio = float(height/width)"
   ]
  },
  {
   "cell_type": "code",
   "execution_count": null,
   "id": "274f13eb",
   "metadata": {},
   "outputs": [],
   "source": [
    "new_width = 320 # pixels\n",
    "new_height = int(new_width * ratio)\n",
    "new_size = (new_width, new_height)\n",
    "resized_img = cv2.resize(img, new_size, interpolation = cv2.INTER_AREA)\n",
    "cv2.imshow(\"Resized image\", resized_img)\n",
    "cv2.waitKey(0)  \n",
    "cv2.destroyAllWindows()"
   ]
  },
  {
   "cell_type": "markdown",
   "id": "fc26846d",
   "metadata": {},
   "source": [
    "## Image flipping"
   ]
  },
  {
   "cell_type": "code",
   "execution_count": null,
   "id": "7d34c01f",
   "metadata": {},
   "outputs": [],
   "source": [
    "img = cv2.imread('../images/bridge.png')\n",
    "cv2.imshow(\"Original\", img) "
   ]
  },
  {
   "cell_type": "code",
   "execution_count": null,
   "id": "e015841d",
   "metadata": {},
   "outputs": [],
   "source": [
    "flip_horizontal = img[::-1,:] #equivalent commmand below\n",
    "#flip_horizontal = cv2.flip(img, 1)\n",
    "cv2.imshow(\"Horizontal Flip\", flip_horizontal)\n",
    "#cv2.waitKey(0)  \n",
    "#cv2.destroyAllWindows()"
   ]
  },
  {
   "cell_type": "code",
   "execution_count": null,
   "id": "661d522d",
   "metadata": {},
   "outputs": [],
   "source": [
    "flip_vertical = img[:,::-1] #equivalent commmand below\n",
    "#flip_vertical = cv2.flip(img, 0) \n",
    "cv2.imshow(\"Vertical Flip\", flip_vertical) \n",
    "#cv2.waitKey(0)  \n",
    "#cv2.destroyAllWindows()"
   ]
  },
  {
   "cell_type": "code",
   "execution_count": null,
   "id": "8aaf18a2",
   "metadata": {},
   "outputs": [],
   "source": [
    "flip_hv = img[::-1,::-1] #equivalent commmand below\n",
    "#flip_hv = cv2.flip(img, -1) \n",
    "cv2.imshow(\"Horizontal and Vertical Flip\", flip_hv) \n",
    "cv2.waitKey(0)  \n",
    "cv2.destroyAllWindows()"
   ]
  },
  {
   "cell_type": "markdown",
   "id": "0a4bed75",
   "metadata": {},
   "source": [
    "## Image rotating"
   ]
  },
  {
   "cell_type": "code",
   "execution_count": null,
   "id": "872cf39c",
   "metadata": {},
   "outputs": [],
   "source": [
    "img = cv2.imread('../images/bridge.png')\n",
    "(height, width) = img.shape[:2] \n",
    "center = (height // 2, width // 2) \n",
    "M = cv2.getRotationMatrix2D(center, 30, 1.0)#30 degrees\n",
    "rotated_img = cv2.warpAffine(img, M, (width, height))  \n",
    "cv2.imshow(\"Image rotated by 30 degrees\", rotated_img) \n",
    "cv2.waitKey(0)\n",
    "cv2.destroyAllWindows()"
   ]
  },
  {
   "cell_type": "markdown",
   "id": "0d951003",
   "metadata": {},
   "source": [
    "## Color Systems"
   ]
  },
  {
   "cell_type": "code",
   "execution_count": null,
   "id": "4ee76f66",
   "metadata": {},
   "outputs": [],
   "source": [
    "img = cv2.imread('../images/bridge.png')\n",
    "cv2.imshow(\"Original\", img)\n",
    "gray = cv2.cvtColor(img, cv2.COLOR_BGR2GRAY)\n",
    "cv2.imshow(\"Gray\", gray)\n",
    "hsv = cv2.cvtColor(img, cv2.COLOR_BGR2HSV)\n",
    "cv2.imshow(\"HSV\", hsv)\n",
    "lab = cv2.cvtColor(img, cv2.COLOR_BGR2LAB)\n",
    "cv2.imshow(\"L*a*b*\", lab)\n",
    "cv2.waitKey(0)\n",
    "cv2.destroyAllWindows()"
   ]
  },
  {
   "cell_type": "code",
   "execution_count": null,
   "id": "bbb4fa6d",
   "metadata": {},
   "outputs": [],
   "source": [
    "img = cv2.imread('../images/bridge.png')\n",
    "(blue, green, red) = cv2.split(img)\n",
    "cv2.imshow(\"Red\", red)\n",
    "cv2.imshow(\"Green\", green) \n",
    "cv2.imshow(\"Blue\", blue)\n",
    "cv2.waitKey(0)\n",
    "cv2.destroyAllWindows()"
   ]
  },
  {
   "cell_type": "code",
   "execution_count": null,
   "id": "89bd7405",
   "metadata": {},
   "outputs": [],
   "source": [
    "reconstructed = cv2.merge([blue, green, red]) "
   ]
  },
  {
   "cell_type": "code",
   "execution_count": null,
   "id": "5463dbb2",
   "metadata": {},
   "outputs": [],
   "source": [
    "img = cv2.imread('../images/bridge.png')\n",
    "(blue, green, red) = cv2.split(img)\n",
    "zeros = np.zeros(img.shape[:2], dtype = \"uint8\")  \n",
    "cv2.imshow(\"Red\", cv2.merge([zeros, zeros, red]))\n",
    "cv2.imshow(\"Green\", cv2.merge([zeros, green, zeros]))\n",
    "cv2.imshow(\"Blue\", cv2.merge([blue, zeros, zeros]))\n",
    "cv2.imshow(\"Original\", img)\n",
    "cv2.waitKey(0)\n",
    "cv2.destroyAllWindows()"
   ]
  }
 ],
 "metadata": {
  "kernelspec": {
   "display_name": "Python 3.9.10 ('venv': venv)",
   "language": "python",
   "name": "python3"
  },
  "language_info": {
   "codemirror_mode": {
    "name": "ipython",
    "version": 3
   },
   "file_extension": ".py",
   "mimetype": "text/x-python",
   "name": "python",
   "nbconvert_exporter": "python",
   "pygments_lexer": "ipython3",
   "version": "3.9.10"
  },
  "vscode": {
   "interpreter": {
    "hash": "fd55720c0b332c23ecbd85df914f0bc474194e267776ec41e175b6c84db1563d"
   }
  }
 },
 "nbformat": 4,
 "nbformat_minor": 5
}
