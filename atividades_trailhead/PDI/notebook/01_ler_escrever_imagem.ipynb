{
 "cells": [
  {
   "cell_type": "markdown",
   "id": "46f8a458",
   "metadata": {},
   "source": [
    "# OpenCV Tutorial"
   ]
  },
  {
   "cell_type": "code",
   "execution_count": 2,
   "id": "9a84cc3a",
   "metadata": {},
   "outputs": [
    {
     "name": "stdout",
     "output_type": "stream",
     "text": [
      "Width(pixels): 512\n",
      "Height(pixels): 512\n",
      "# of channels: 3\n"
     ]
    },
    {
     "data": {
      "text/plain": [
       "True"
      ]
     },
     "execution_count": 2,
     "metadata": {},
     "output_type": "execute_result"
    }
   ],
   "source": [
    "import cv2\n",
    "image = cv2.imread('../images/lena.png')\n",
    "print('Width(pixels): ', end='')\n",
    "print(image.shape[1])\n",
    "print('Height(pixels): ', end='')\n",
    "print(image.shape[0])\n",
    "print('# of channels: ', end='')\n",
    "print(image.shape[2])\n",
    "cv2.imshow(\"Image\", image)\n",
    "cv2.waitKey(0)\n",
    "cv2.destroyAllWindows()\n",
    "cv2.imwrite(\"../images/lena_out.png\", image)"
   ]
  }
 ],
 "metadata": {
  "kernelspec": {
   "display_name": "Python 3.9.10 ('venv': venv)",
   "language": "python",
   "name": "python3"
  },
  "language_info": {
   "codemirror_mode": {
    "name": "ipython",
    "version": 3
   },
   "file_extension": ".py",
   "mimetype": "text/x-python",
   "name": "python",
   "nbconvert_exporter": "python",
   "pygments_lexer": "ipython3",
   "version": "3.9.10"
  },
  "vscode": {
   "interpreter": {
    "hash": "fd55720c0b332c23ecbd85df914f0bc474194e267776ec41e175b6c84db1563d"
   }
  }
 },
 "nbformat": 4,
 "nbformat_minor": 5
}
