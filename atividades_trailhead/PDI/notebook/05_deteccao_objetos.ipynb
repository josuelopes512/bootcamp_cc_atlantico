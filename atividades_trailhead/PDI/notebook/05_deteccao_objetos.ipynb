{
 "cells": [
  {
   "cell_type": "code",
   "execution_count": 21,
   "id": "354cca2d",
   "metadata": {},
   "outputs": [],
   "source": [
    "import numpy as np \n",
    "import cv2 \n",
    "import mahotas"
   ]
  },
  {
   "cell_type": "code",
   "execution_count": 22,
   "id": "4cd39b6a",
   "metadata": {},
   "outputs": [],
   "source": [
    "def wait():\n",
    "    cv2.waitKey(0)\n",
    "    cv2.destroyAllWindows()\n",
    "  \n",
    "#Função para facilitar a escrita nas imagem \n",
    "def escreve(img, texto, cor=(255,0,0)):\n",
    "    fonte = cv2.FONT_HERSHEY_SIMPLEX \n",
    "    cv2.putText(img, texto, (10,20), fonte, 0.5, cor, 0, cv2.LINE_AA)\n"
   ]
  },
  {
   "cell_type": "code",
   "execution_count": 23,
   "id": "7bcaf992",
   "metadata": {},
   "outputs": [],
   "source": [
    "imgColorida = img = cv2.imread('../images/bridge.png') #Carregamento da imagem  \n",
    "\n",
    "#Se necessário o redimensioamento da imagem pode vir aqui.\n",
    "\n",
    "#Passo 1: Conversão para tons de cinza \n",
    "img = cv2.cvtColor(imgColorida, cv2.COLOR_BGR2GRAY)  \n",
    "\n",
    "#Passo 2: Blur/Suavização da imagem \n",
    "suave = cv2.blur(img, (7, 7))  \n",
    "\n",
    "#Passo 3: Binarização resultando em pixels brancos e pretos \n",
    "T = mahotas.thresholding.otsu(suave) \n",
    "bin = suave.copy() \n",
    "bin[bin > T] = 255 \n",
    "bin[bin < 255] = 0 \n",
    "bin = cv2.bitwise_not(bin)  \n",
    "\n",
    "#Passo 4: Detecção de bordas com Canny \n",
    "bordas = cv2.Canny(bin, 70, 150)  "
   ]
  },
  {
   "cell_type": "code",
   "execution_count": null,
   "id": "00768d28",
   "metadata": {},
   "outputs": [],
   "source": [
    "#Passo 5: Identificação e contagem dos contornos da imagem \n",
    "# cv2.RETR_EXTERNAL = conta apenas os contornos externos \n",
    "_, objetos = cv2.findContours(bordas.copy(), \n",
    "                                     cv2.RETR_EXTERNAL, \n",
    "                                     cv2.CHAIN_APPROX_SIMPLE) #A variável lx (lixo) recebe dados que não são utilizados\n"
   ]
  },
  {
   "cell_type": "code",
   "execution_count": 25,
   "id": "b8874413",
   "metadata": {},
   "outputs": [],
   "source": [
    "escreve(img, \"Imagem em tons de cinza\", 0) \n",
    "escreve(suave, \"Suavizacao com Blur\", 0) \n",
    "escreve(bin, \"Binarizacao com Metodo Otsu\", 255) \n",
    "escreve(bordas, \"Detector de bordas Canny\", 255)\n",
    "temp = np.vstack([  np.hstack([img, suave]), np.hstack([bin, bordas]) ])   \n",
    "\n",
    "cv2.imshow(\"Quantidade de objetos: \"+str(len(objetos)), temp) \n",
    "wait()"
   ]
  },
  {
   "cell_type": "code",
   "execution_count": 26,
   "id": "a3187b67",
   "metadata": {},
   "outputs": [
    {
     "ename": "error",
     "evalue": "OpenCV(4.6.0) D:\\a\\opencv-python\\opencv-python\\opencv\\modules\\imgproc\\src\\drawing.cpp:2502: error: (-215:Assertion failed) npoints > 0 in function 'cv::drawContours'\n",
     "output_type": "error",
     "traceback": [
      "\u001b[1;31m---------------------------------------------------------------------------\u001b[0m",
      "\u001b[1;31merror\u001b[0m                                     Traceback (most recent call last)",
      "\u001b[1;32mc:\\Users\\jslop\\Desktop\\bootcamp_atlantico\\atlantico_bootcamp_original\\atividades_trailhead\\PDI\\notebook\\05-object-detection.ipynb Cell 6'\u001b[0m in \u001b[0;36m<cell line: 3>\u001b[1;34m()\u001b[0m\n\u001b[0;32m      <a href='vscode-notebook-cell:/c%3A/Users/jslop/Desktop/bootcamp_atlantico/atlantico_bootcamp_original/atividades_trailhead/PDI/notebook/05-object-detection.ipynb#ch0000002?line=0'>1</a>\u001b[0m imgC2 \u001b[39m=\u001b[39m imgColorida\u001b[39m.\u001b[39mcopy() \n\u001b[0;32m      <a href='vscode-notebook-cell:/c%3A/Users/jslop/Desktop/bootcamp_atlantico/atlantico_bootcamp_original/atividades_trailhead/PDI/notebook/05-object-detection.ipynb#ch0000002?line=1'>2</a>\u001b[0m cv2\u001b[39m.\u001b[39mimshow(\u001b[39m\"\u001b[39m\u001b[39mImagem Original\u001b[39m\u001b[39m\"\u001b[39m, imgColorida)\n\u001b[1;32m----> <a href='vscode-notebook-cell:/c%3A/Users/jslop/Desktop/bootcamp_atlantico/atlantico_bootcamp_original/atividades_trailhead/PDI/notebook/05-object-detection.ipynb#ch0000002?line=2'>3</a>\u001b[0m cv2\u001b[39m.\u001b[39;49mdrawContours(imgC2, objetos, \u001b[39m-\u001b[39;49m\u001b[39m1\u001b[39;49m, (\u001b[39m255\u001b[39;49m, \u001b[39m0\u001b[39;49m, \u001b[39m0\u001b[39;49m), \u001b[39m2\u001b[39;49m) \n\u001b[0;32m      <a href='vscode-notebook-cell:/c%3A/Users/jslop/Desktop/bootcamp_atlantico/atlantico_bootcamp_original/atividades_trailhead/PDI/notebook/05-object-detection.ipynb#ch0000002?line=3'>4</a>\u001b[0m escreve(imgC2, \u001b[39mstr\u001b[39m(\u001b[39mlen\u001b[39m(objetos))\u001b[39m+\u001b[39m\u001b[39m\"\u001b[39m\u001b[39m objetos encontrados!\u001b[39m\u001b[39m\"\u001b[39m) \n\u001b[0;32m      <a href='vscode-notebook-cell:/c%3A/Users/jslop/Desktop/bootcamp_atlantico/atlantico_bootcamp_original/atividades_trailhead/PDI/notebook/05-object-detection.ipynb#ch0000002?line=4'>5</a>\u001b[0m cv2\u001b[39m.\u001b[39mimshow(\u001b[39m\"\u001b[39m\u001b[39mResultado\u001b[39m\u001b[39m\"\u001b[39m, imgC2) \n",
      "\u001b[1;31merror\u001b[0m: OpenCV(4.6.0) D:\\a\\opencv-python\\opencv-python\\opencv\\modules\\imgproc\\src\\drawing.cpp:2502: error: (-215:Assertion failed) npoints > 0 in function 'cv::drawContours'\n"
     ]
    },
    {
     "ename": "",
     "evalue": "",
     "output_type": "error",
     "traceback": [
      "\u001b[1;31mThe Kernel crashed while executing code in the the current cell or a previous cell. Please review the code in the cell(s) to identify a possible cause of the failure. Click <a href='https://aka.ms/vscodeJupyterKernelCrash'>here</a> for more info. View Jupyter <a href='command:jupyter.viewOutput'>log</a> for further details."
     ]
    }
   ],
   "source": [
    "imgC2 = imgColorida.copy() \n",
    "cv2.imshow(\"Imagem Original\", imgColorida)\n",
    "cv2.drawContours(imgC2, objetos, -1, (255, 0, 0), 2) \n",
    "escreve(imgC2, str(len(objetos))+\" objetos encontrados!\") \n",
    "cv2.imshow(\"Resultado\", imgC2) \n",
    "wait()"
   ]
  }
 ],
 "metadata": {
  "kernelspec": {
   "display_name": "Python 3.9.10 ('venv': venv)",
   "language": "python",
   "name": "python3"
  },
  "language_info": {
   "codemirror_mode": {
    "name": "ipython",
    "version": 3
   },
   "file_extension": ".py",
   "mimetype": "text/x-python",
   "name": "python",
   "nbconvert_exporter": "python",
   "pygments_lexer": "ipython3",
   "version": "3.9.10"
  },
  "vscode": {
   "interpreter": {
    "hash": "fd55720c0b332c23ecbd85df914f0bc474194e267776ec41e175b6c84db1563d"
   }
  }
 },
 "nbformat": 4,
 "nbformat_minor": 5
}
